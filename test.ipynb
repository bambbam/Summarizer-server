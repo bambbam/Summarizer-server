{
 "cells": [
  {
   "cell_type": "code",
   "execution_count": 6,
   "metadata": {},
   "outputs": [
    {
     "name": "stdout",
     "output_type": "stream",
     "text": [
      "Table status: ACTIVE\n"
     ]
    }
   ],
   "source": [
    "import boto3\n",
    "\n",
    "\n",
    "def create_movie_table(dynamodb=None):\n",
    "    if not dynamodb:\n",
    "        dynamodb = boto3.resource('dynamodb', endpoint_url=\"http://localhost:8000\")\n",
    "\n",
    "    table = dynamodb.create_table(\n",
    "        TableName='Video',\n",
    "        KeySchema=[\n",
    "            {\n",
    "                'AttributeName': 'key',\n",
    "                'KeyType': 'HASH'  # Partition key\n",
    "            },\n",
    "        ],\n",
    "        AttributeDefinitions=[\n",
    "            {\n",
    "                'AttributeName': 'key',\n",
    "                'AttributeType': 'S'\n",
    "            },\n",
    "        ],\n",
    "        ProvisionedThroughput={\n",
    "            'ReadCapacityUnits': 10,\n",
    "            'WriteCapacityUnits': 10\n",
    "        }\n",
    "    )\n",
    "    return table\n",
    "\n",
    "\n",
    "if __name__ == '__main__':\n",
    "    movie_table = create_movie_table()\n",
    "    print(\"Table status:\", movie_table.table_status)"
   ]
  },
  {
   "cell_type": "code",
   "execution_count": 7,
   "metadata": {},
   "outputs": [],
   "source": [
    "import boto3\n",
    "dynamodb = boto3.resource('dynamodb', endpoint_url=\"http://localhost:8000\")"
   ]
  },
  {
   "cell_type": "code",
   "execution_count": 8,
   "metadata": {},
   "outputs": [],
   "source": [
    "from app.infrastructure.video_repository import VideoRepository"
   ]
  },
  {
   "cell_type": "code",
   "execution_count": 9,
   "metadata": {},
   "outputs": [
    {
     "data": {
      "text/plain": [
       "{'Items': [],\n",
       " 'Count': 0,\n",
       " 'ScannedCount': 0,\n",
       " 'ResponseMetadata': {'RequestId': '8c877f39-8250-4986-82d3-bb925c8ea472',\n",
       "  'HTTPStatusCode': 200,\n",
       "  'HTTPHeaders': {'date': 'Fri, 06 May 2022 16:02:28 GMT',\n",
       "   'content-type': 'application/x-amz-json-1.0',\n",
       "   'x-amz-crc32': '583912891',\n",
       "   'x-amzn-requestid': '8c877f39-8250-4986-82d3-bb925c8ea472',\n",
       "   'content-length': '39',\n",
       "   'server': 'Jetty(9.4.18.v20190429)'},\n",
       "  'RetryAttempts': 0}}"
      ]
     },
     "execution_count": 9,
     "metadata": {},
     "output_type": "execute_result"
    }
   ],
   "source": [
    "videoTable.scan()"
   ]
  },
  {
   "cell_type": "code",
   "execution_count": null,
   "metadata": {},
   "outputs": [],
   "source": []
  }
 ],
 "metadata": {
  "interpreter": {
   "hash": "b768b0aea4878dbe72f320c4cafc00b9770713ab12dbcb5c6e4535270255991d"
  },
  "kernelspec": {
   "display_name": "Python 3.8.10 ('summarizer-server-770K9JcP-py3.8')",
   "language": "python",
   "name": "python3"
  },
  "language_info": {
   "codemirror_mode": {
    "name": "ipython",
    "version": 3
   },
   "file_extension": ".py",
   "mimetype": "text/x-python",
   "name": "python",
   "nbconvert_exporter": "python",
   "pygments_lexer": "ipython3",
   "version": "3.8.10"
  },
  "orig_nbformat": 4
 },
 "nbformat": 4,
 "nbformat_minor": 2
}
