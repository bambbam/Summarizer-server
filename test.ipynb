{
 "cells": [
  {
   "cell_type": "code",
   "execution_count": 5,
   "metadata": {},
   "outputs": [],
   "source": [
    "import boto3\n",
    "dynamodb = boto3.resource('dynamodb', endpoint_url=\"http://localhost:8000\")\n",
    "videoTable = dynamodb.Table('Video')\n"
   ]
  },
  {
   "cell_type": "code",
   "execution_count": 9,
   "metadata": {},
   "outputs": [
    {
     "data": {
      "text/plain": [
       "{'Items': [{'end_time': None,\n",
       "   'start_time': '2022/05/19_15:38:49',\n",
       "   'key': '1234',\n",
       "   'user_name': '1234',\n",
       "   'url': '12345',\n",
       "   'status': 'uploaded'}],\n",
       " 'Count': 1,\n",
       " 'ScannedCount': 1,\n",
       " 'ResponseMetadata': {'RequestId': 'e60b1d2b-35e9-4f6f-9fcd-8209f62b5cdb',\n",
       "  'HTTPStatusCode': 200,\n",
       "  'HTTPHeaders': {'date': 'Sun, 22 May 2022 14:43:10 GMT',\n",
       "   'content-type': 'application/x-amz-json-1.0',\n",
       "   'x-amz-crc32': '2807307987',\n",
       "   'x-amzn-requestid': 'e60b1d2b-35e9-4f6f-9fcd-8209f62b5cdb',\n",
       "   'content-length': '196',\n",
       "   'server': 'Jetty(9.4.18.v20190429)'},\n",
       "  'RetryAttempts': 0}}"
      ]
     },
     "execution_count": 9,
     "metadata": {},
     "output_type": "execute_result"
    }
   ],
   "source": [
    "videoTable.scan(Select= \"ALL_ATTRIBUTES\")"
   ]
  },
  {
   "cell_type": "code",
   "execution_count": null,
   "metadata": {},
   "outputs": [],
   "source": []
  }
 ],
 "metadata": {
  "interpreter": {
   "hash": "253517000a07805dcf77e998032a38a057ce7ae588484cab33497fd909d82c8d"
  },
  "kernelspec": {
   "display_name": "Python 3.8.9 ('summarizer-server-gXSUoiWy-py3.8')",
   "language": "python",
   "name": "python3"
  },
  "language_info": {
   "codemirror_mode": {
    "name": "ipython",
    "version": 3
   },
   "file_extension": ".py",
   "mimetype": "text/x-python",
   "name": "python",
   "nbconvert_exporter": "python",
   "pygments_lexer": "ipython3",
   "version": "3.8.9"
  },
  "orig_nbformat": 4
 },
 "nbformat": 4,
 "nbformat_minor": 2
}
