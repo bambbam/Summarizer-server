{
 "cells": [
  {
   "cell_type": "code",
   "execution_count": 9,
   "metadata": {},
   "outputs": [
    {
     "data": {
      "text/plain": [
       "{'password': Binary(b'$2b$12$XsJDNmSB/FKemcdKQiWAZuAkslWfNkmMPjAyR/KyPqC1Zh4xUipcC'),\n",
       " 'disabled': False,\n",
       " 'username': '123'}"
      ]
     },
     "execution_count": 9,
     "metadata": {},
     "output_type": "execute_result"
    }
   ],
   "source": [
    "import boto3\n",
    "dynamodb = boto3.resource('dynamodb', endpoint_url=\"http://localhost:8000\")\n",
    "userTable = dynamodb.Table('User')\n",
    "userTable.get_item(\n",
    "                Key={\"username\":'123'}\n",
    "            )['Item']"
   ]
  },
  {
   "cell_type": "code",
   "execution_count": null,
   "metadata": {},
   "outputs": [],
   "source": []
  },
  {
   "cell_type": "code",
   "execution_count": null,
   "metadata": {},
   "outputs": [],
   "source": []
  }
 ],
 "metadata": {
  "interpreter": {
   "hash": "253517000a07805dcf77e998032a38a057ce7ae588484cab33497fd909d82c8d"
  },
  "kernelspec": {
   "display_name": "Python 3.8.9 ('summarizer-server-gXSUoiWy-py3.8')",
   "language": "python",
   "name": "python3"
  },
  "language_info": {
   "codemirror_mode": {
    "name": "ipython",
    "version": 3
   },
   "file_extension": ".py",
   "mimetype": "text/x-python",
   "name": "python",
   "nbconvert_exporter": "python",
   "pygments_lexer": "ipython3",
   "version": "3.8.9"
  },
  "orig_nbformat": 4
 },
 "nbformat": 4,
 "nbformat_minor": 2
}
